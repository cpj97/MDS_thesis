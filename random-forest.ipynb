{
 "cells": [
  {
   "cell_type": "markdown",
   "id": "ea7ea4e6",
   "metadata": {
    "papermill": {
     "duration": 0.004873,
     "end_time": "2025-03-11T12:55:46.280756",
     "exception": false,
     "start_time": "2025-03-11T12:55:46.275883",
     "status": "completed"
    },
    "tags": []
   },
   "source": [
    "# MDS-thesis/random_forest"
   ]
  },
  {
   "cell_type": "markdown",
   "id": "131167e5",
   "metadata": {
    "papermill": {
     "duration": 0.003932,
     "end_time": "2025-03-11T12:55:46.289681",
     "exception": false,
     "start_time": "2025-03-11T12:55:46.285749",
     "status": "completed"
    },
    "tags": []
   },
   "source": [
    "## 0.Setup"
   ]
  },
  {
   "cell_type": "markdown",
   "id": "803c932b",
   "metadata": {
    "papermill": {
     "duration": 0.003813,
     "end_time": "2025-03-11T12:55:46.297695",
     "exception": false,
     "start_time": "2025-03-11T12:55:46.293882",
     "status": "completed"
    },
    "tags": []
   },
   "source": [
    "### Install packages"
   ]
  },
  {
   "cell_type": "code",
   "execution_count": 1,
   "id": "8e656af4",
   "metadata": {
    "execution": {
     "iopub.execute_input": "2025-03-11T12:55:46.307552Z",
     "iopub.status.busy": "2025-03-11T12:55:46.306867Z",
     "iopub.status.idle": "2025-03-11T12:55:46.312200Z",
     "shell.execute_reply": "2025-03-11T12:55:46.311211Z"
    },
    "papermill": {
     "duration": 0.012083,
     "end_time": "2025-03-11T12:55:46.313726",
     "exception": false,
     "start_time": "2025-03-11T12:55:46.301643",
     "status": "completed"
    },
    "tags": []
   },
   "outputs": [],
   "source": [
    "# Install required packages\n",
    "#!pip install seaborn\n",
    "#%pip install -q pandas matplotlib numpy scikit-learn\n",
    "#%pip install torch torchvision torchaudio --index-url https://download.pytorch.org/whl/cu118"
   ]
  },
  {
   "cell_type": "markdown",
   "id": "ce337165",
   "metadata": {
    "papermill": {
     "duration": 0.003966,
     "end_time": "2025-03-11T12:55:46.322231",
     "exception": false,
     "start_time": "2025-03-11T12:55:46.318265",
     "status": "completed"
    },
    "tags": []
   },
   "source": [
    "### Load packages"
   ]
  },
  {
   "cell_type": "code",
   "execution_count": 2,
   "id": "1cb50583",
   "metadata": {
    "execution": {
     "iopub.execute_input": "2025-03-11T12:55:46.332063Z",
     "iopub.status.busy": "2025-03-11T12:55:46.331690Z",
     "iopub.status.idle": "2025-03-11T12:55:53.289793Z",
     "shell.execute_reply": "2025-03-11T12:55:53.288799Z"
    },
    "papermill": {
     "duration": 6.965286,
     "end_time": "2025-03-11T12:55:53.291743",
     "exception": false,
     "start_time": "2025-03-11T12:55:46.326457",
     "status": "completed"
    },
    "tags": []
   },
   "outputs": [],
   "source": [
    "# Import packages\n",
    "import numpy as np\n",
    "import matplotlib.pyplot as plt\n",
    "import pandas as pd\n",
    "import torch\n",
    "%matplotlib inline\n",
    "#to display matplotlib plots directly in the notebook\n",
    "\n",
    "from sklearn import linear_model\n",
    "#from sklearn.metrics import mean_absolute_error, mean_squared_error, root_mean_squared_error, r2_score\n",
    "from sklearn.ensemble import RandomForestRegressor\n",
    "#from sklearn.model_selection import TimeSeriesSplit\n",
    "#from sklearn.model_selection import train_test_split\n",
    "from sklearn.model_selection import KFold\n",
    "from sklearn.preprocessing import StandardScaler"
   ]
  },
  {
   "cell_type": "markdown",
   "id": "9ccdaea3",
   "metadata": {
    "papermill": {
     "duration": 0.003972,
     "end_time": "2025-03-11T12:55:53.300218",
     "exception": false,
     "start_time": "2025-03-11T12:55:53.296246",
     "status": "completed"
    },
    "tags": []
   },
   "source": [
    "## 1. Load Data"
   ]
  },
  {
   "cell_type": "markdown",
   "id": "67fdbccd",
   "metadata": {
    "papermill": {
     "duration": 0.003964,
     "end_time": "2025-03-11T12:55:53.308499",
     "exception": false,
     "start_time": "2025-03-11T12:55:53.304535",
     "status": "completed"
    },
    "tags": []
   },
   "source": [
    "### VSCode"
   ]
  },
  {
   "cell_type": "code",
   "execution_count": 3,
   "id": "32549232",
   "metadata": {
    "execution": {
     "iopub.execute_input": "2025-03-11T12:55:53.318185Z",
     "iopub.status.busy": "2025-03-11T12:55:53.317643Z",
     "iopub.status.idle": "2025-03-11T12:55:53.322045Z",
     "shell.execute_reply": "2025-03-11T12:55:53.320873Z"
    },
    "papermill": {
     "duration": 0.011181,
     "end_time": "2025-03-11T12:55:53.323746",
     "exception": false,
     "start_time": "2025-03-11T12:55:53.312565",
     "status": "completed"
    },
    "tags": []
   },
   "outputs": [],
   "source": [
    "# Import train\n",
    "#train = pd.read_csv('../Data/train_test/train_df.csv')\n",
    "#train = pd.read_csv('Data/train_test/train_df.csv')\n",
    "\n",
    "# Import test\n",
    "#test = pd.read_csv('../Data/train_test/test_df.csv')\n",
    "#test = pd.read_csv('Data/train_test/test_df.csv')"
   ]
  },
  {
   "cell_type": "markdown",
   "id": "e55b07d2",
   "metadata": {
    "papermill": {
     "duration": 0.004106,
     "end_time": "2025-03-11T12:55:53.332438",
     "exception": false,
     "start_time": "2025-03-11T12:55:53.328332",
     "status": "completed"
    },
    "tags": []
   },
   "source": [
    "### Colab"
   ]
  },
  {
   "cell_type": "code",
   "execution_count": 4,
   "id": "977b83a6",
   "metadata": {
    "execution": {
     "iopub.execute_input": "2025-03-11T12:55:53.342176Z",
     "iopub.status.busy": "2025-03-11T12:55:53.341749Z",
     "iopub.status.idle": "2025-03-11T12:55:53.346193Z",
     "shell.execute_reply": "2025-03-11T12:55:53.345050Z"
    },
    "papermill": {
     "duration": 0.01167,
     "end_time": "2025-03-11T12:55:53.348304",
     "exception": false,
     "start_time": "2025-03-11T12:55:53.336634",
     "status": "completed"
    },
    "tags": []
   },
   "outputs": [],
   "source": [
    "import pandas as pd\n",
    "#file_path = \"/content/train_df.csv\"  # Adjust this path\n",
    "#train = pd.read_csv(file_path)\n",
    "#display(train)\n",
    "\n",
    "#file_path = \"/content/test_df.csv\"  # Adjust this path\n",
    "#test = pd.read_csv(file_path)\n",
    "#display(test)"
   ]
  },
  {
   "cell_type": "markdown",
   "id": "16b35a66",
   "metadata": {
    "papermill": {
     "duration": 0.003978,
     "end_time": "2025-03-11T12:55:53.356813",
     "exception": false,
     "start_time": "2025-03-11T12:55:53.352835",
     "status": "completed"
    },
    "tags": []
   },
   "source": [
    "### Kaggle"
   ]
  },
  {
   "cell_type": "code",
   "execution_count": 5,
   "id": "b8fc7063",
   "metadata": {
    "execution": {
     "iopub.execute_input": "2025-03-11T12:55:53.366516Z",
     "iopub.status.busy": "2025-03-11T12:55:53.366139Z",
     "iopub.status.idle": "2025-03-11T12:55:59.782504Z",
     "shell.execute_reply": "2025-03-11T12:55:59.781648Z"
    },
    "papermill": {
     "duration": 6.423482,
     "end_time": "2025-03-11T12:55:59.784422",
     "exception": false,
     "start_time": "2025-03-11T12:55:53.360940",
     "status": "completed"
    },
    "tags": []
   },
   "outputs": [],
   "source": [
    "import os\n",
    "import pandas as pd\n",
    "\n",
    "# Define dataset path\n",
    "ds_path = \"/kaggle/input/final-ds\"\n",
    "\n",
    "# Create a list with the files in the dataset (dataframes)\n",
    "ds_files = os.listdir(ds_path) #list available files in the dataset\n",
    "\n",
    "# Load each file into a dictionary (assuming all files are csv)\n",
    "ds = {file: pd.read_csv(f\"{ds_path}/{file}\") for file in ds_files}\n",
    "\n",
    "# Create the specific dataframe\n",
    "final = ds[ds_files[0]] #first csv file\n",
    "#final.head()\n",
    "test = ds[ds_files[1]]  \n",
    "#test.head()\n",
    "train = ds[ds_files[2]]  \n",
    "#train.head()\n"
   ]
  },
  {
   "cell_type": "markdown",
   "id": "99d570b0",
   "metadata": {
    "papermill": {
     "duration": 0.004178,
     "end_time": "2025-03-11T12:55:59.793021",
     "exception": false,
     "start_time": "2025-03-11T12:55:59.788843",
     "status": "completed"
    },
    "tags": []
   },
   "source": [
    "## 2. Preprocess"
   ]
  },
  {
   "cell_type": "code",
   "execution_count": 6,
   "id": "54b04be9",
   "metadata": {
    "execution": {
     "iopub.execute_input": "2025-03-11T12:55:59.802683Z",
     "iopub.status.busy": "2025-03-11T12:55:59.802345Z",
     "iopub.status.idle": "2025-03-11T12:56:00.236990Z",
     "shell.execute_reply": "2025-03-11T12:56:00.235943Z"
    },
    "papermill": {
     "duration": 0.441741,
     "end_time": "2025-03-11T12:56:00.238960",
     "exception": false,
     "start_time": "2025-03-11T12:55:59.797219",
     "status": "completed"
    },
    "tags": []
   },
   "outputs": [],
   "source": [
    "import numpy as np\n",
    "from sklearn.preprocessing import StandardScaler\n",
    "\n",
    "# y train and test\n",
    "y_train = train['tc_loss_area']\n",
    "y_test = test['tc_loss_area']\n",
    "\n",
    "# Normalize output\n",
    "scaler = StandardScaler()\n",
    "y_train = scaler.fit_transform(y_train.values.reshape(-1, 1))\n",
    "y_test = scaler.transform(y_test.values.reshape(-1, 1))\n",
    "\n",
    "\n",
    "# Get rid of columns that start with 'subnational1_' and 'cluster_' in train and test   \n",
    "train1 = train.loc[:,~train.columns.str.startswith('subnational1_')]\n",
    "train1 = train.loc[:,~train.columns.str.startswith('cluster_')]\n",
    "test1 = test.loc[:,~test.columns.str.startswith('subnational1_')]\n",
    "test1 = test.loc[:,~test.columns.str.startswith('cluster_')]\n",
    "\n",
    "# X train and test\n",
    "X_train1 = train1.drop(columns=['tc_loss_area', 'codmpio'])\n",
    "X_test1 = test1.drop(columns=['tc_loss_area', 'codmpio'])\n",
    "\n",
    "# Normalize features\n",
    "X_train1 = scaler.fit_transform(X_train1)\n",
    "X_test1 = scaler.transform(X_test1)"
   ]
  },
  {
   "cell_type": "markdown",
   "id": "d805b71d",
   "metadata": {
    "papermill": {
     "duration": 0.004526,
     "end_time": "2025-03-11T12:56:00.248141",
     "exception": false,
     "start_time": "2025-03-11T12:56:00.243615",
     "status": "completed"
    },
    "tags": []
   },
   "source": [
    "## 3. Model"
   ]
  },
  {
   "cell_type": "code",
   "execution_count": 7,
   "id": "32635bc7",
   "metadata": {
    "execution": {
     "iopub.execute_input": "2025-03-11T12:56:00.258714Z",
     "iopub.status.busy": "2025-03-11T12:56:00.258327Z",
     "iopub.status.idle": "2025-03-11T12:56:04.575868Z",
     "shell.execute_reply": "2025-03-11T12:56:04.574616Z"
    },
    "papermill": {
     "duration": 4.324782,
     "end_time": "2025-03-11T12:56:04.577792",
     "exception": false,
     "start_time": "2025-03-11T12:56:00.253010",
     "status": "completed"
    },
    "tags": []
   },
   "outputs": [
    {
     "name": "stdout",
     "output_type": "stream",
     "text": [
      "Train MSE: 0.0520, Train R²: 0.9480\n",
      "Test MSE: 0.8313, Test R²: -0.0444\n"
     ]
    }
   ],
   "source": [
    "from sklearn.ensemble import RandomForestRegressor\n",
    "from sklearn.metrics import mean_squared_error, r2_score\n",
    "\n",
    "# Define the Random Forest model\n",
    "rf_model = RandomForestRegressor(n_estimators=100, random_state=17, n_jobs=-1)\n",
    "\n",
    "# Train the model\n",
    "rf_model.fit(X_train1, y_train.ravel())  # `ravel()` converts y_train to a 1D array if needed\n",
    "\n",
    "# Make predictions\n",
    "y_pred_train = rf_model.predict(X_train1)\n",
    "y_pred_test = rf_model.predict(X_test1)\n",
    "\n",
    "# Evaluate the model\n",
    "train_mse = mean_squared_error(y_train, y_pred_train)\n",
    "test_mse = mean_squared_error(y_test, y_pred_test)\n",
    "train_r2 = r2_score(y_train, y_pred_train)\n",
    "test_r2 = r2_score(y_test, y_pred_test)\n",
    "\n",
    "# Print results\n",
    "print(f\"Train MSE: {train_mse:.4f}, Train R²: {train_r2:.4f}\")\n",
    "print(f\"Test MSE: {test_mse:.4f}, Test R²: {test_r2:.4f}\")\n"
   ]
  },
  {
   "cell_type": "markdown",
   "id": "2fd3746b",
   "metadata": {
    "papermill": {
     "duration": 0.004227,
     "end_time": "2025-03-11T12:56:04.586565",
     "exception": false,
     "start_time": "2025-03-11T12:56:04.582338",
     "status": "completed"
    },
    "tags": []
   },
   "source": [
    "## 4. Hyperparameter tunning"
   ]
  },
  {
   "cell_type": "code",
   "execution_count": 8,
   "id": "a7f31062",
   "metadata": {
    "execution": {
     "iopub.execute_input": "2025-03-11T12:56:04.596893Z",
     "iopub.status.busy": "2025-03-11T12:56:04.596333Z",
     "iopub.status.idle": "2025-03-11T13:00:27.778699Z",
     "shell.execute_reply": "2025-03-11T13:00:27.777215Z"
    },
    "papermill": {
     "duration": 263.193939,
     "end_time": "2025-03-11T13:00:27.784838",
     "exception": false,
     "start_time": "2025-03-11T12:56:04.590899",
     "status": "completed"
    },
    "tags": []
   },
   "outputs": [
    {
     "name": "stdout",
     "output_type": "stream",
     "text": [
      "Fitting 5 folds for each of 20 candidates, totalling 100 fits\n",
      "Best Parameters: {'n_estimators': 300, 'min_samples_split': 10, 'min_samples_leaf': 1, 'max_features': 'sqrt', 'max_depth': None}\n"
     ]
    }
   ],
   "source": [
    "from sklearn.model_selection import RandomizedSearchCV\n",
    "from sklearn.ensemble import RandomForestRegressor\n",
    "import numpy as np\n",
    "\n",
    "# Define the parameter grid\n",
    "param_dist = {\n",
    "    \"n_estimators\": [100, 200, 300, 500],  # Number of trees\n",
    "    \"max_depth\": [10, 20, 30, None],  # Max depth of trees\n",
    "    \"min_samples_split\": [2, 5, 10],  # Minimum samples to split a node\n",
    "    \"min_samples_leaf\": [1, 2, 4],  # Minimum samples in a leaf node\n",
    "    \"max_features\": [\"sqrt\", \"log2\", None]  # Number of features considered per split\n",
    "}\n",
    "\n",
    "# Initialize the Random Forest Regressor\n",
    "rf = RandomForestRegressor(random_state=42)\n",
    "\n",
    "# Randomized Search Cross Validation\n",
    "random_search = RandomizedSearchCV(\n",
    "    rf, param_distributions=param_dist,\n",
    "    n_iter=20, cv=5, scoring=\"neg_mean_squared_error\",\n",
    "    verbose=2, n_jobs=-1, random_state=42\n",
    ")\n",
    "\n",
    "# Fit the model\n",
    "random_search.fit(X_train1, y_train.ravel())\n",
    "\n",
    "# Best parameters found\n",
    "print(\"Best Parameters:\", random_search.best_params_)\n",
    "\n",
    "# Best model\n",
    "best_rf_model = random_search.best_estimator_\n"
   ]
  },
  {
   "cell_type": "markdown",
   "id": "ac067a42",
   "metadata": {
    "papermill": {
     "duration": 0.004443,
     "end_time": "2025-03-11T13:00:27.794218",
     "exception": false,
     "start_time": "2025-03-11T13:00:27.789775",
     "status": "completed"
    },
    "tags": []
   },
   "source": [
    "## 5. Evaluate model"
   ]
  },
  {
   "cell_type": "code",
   "execution_count": 9,
   "id": "9c4ecd7c",
   "metadata": {
    "execution": {
     "iopub.execute_input": "2025-03-11T13:00:27.804777Z",
     "iopub.status.busy": "2025-03-11T13:00:27.804410Z",
     "iopub.status.idle": "2025-03-11T13:00:28.329784Z",
     "shell.execute_reply": "2025-03-11T13:00:28.328567Z"
    },
    "papermill": {
     "duration": 0.533008,
     "end_time": "2025-03-11T13:00:28.331721",
     "exception": false,
     "start_time": "2025-03-11T13:00:27.798713",
     "status": "completed"
    },
    "tags": []
   },
   "outputs": [
    {
     "name": "stdout",
     "output_type": "stream",
     "text": [
      "Optimized Train MSE: 0.1706, Train R²: 0.8294\n",
      "Optimized Test MSE: 0.7624, Test R²: 0.0421\n"
     ]
    }
   ],
   "source": [
    "from sklearn.metrics import mean_squared_error, r2_score\n",
    "\n",
    "# Predict on test data\n",
    "y_pred_test = best_rf_model.predict(X_test1)\n",
    "y_pred_train = best_rf_model.predict(X_train1)\n",
    "\n",
    "# Evaluate performance\n",
    "train_mse = mean_squared_error(y_train, y_pred_train)\n",
    "test_mse = mean_squared_error(y_test, y_pred_test)\n",
    "train_r2 = r2_score(y_train, y_pred_train)\n",
    "test_r2 = r2_score(y_test, y_pred_test)\n",
    "\n",
    "print(f\"Optimized Train MSE: {train_mse:.4f}, Train R²: {train_r2:.4f}\")\n",
    "print(f\"Optimized Test MSE: {test_mse:.4f}, Test R²: {test_r2:.4f}\")\n"
   ]
  },
  {
   "cell_type": "markdown",
   "id": "fd8a4000",
   "metadata": {
    "papermill": {
     "duration": 0.00457,
     "end_time": "2025-03-11T13:00:28.341124",
     "exception": false,
     "start_time": "2025-03-11T13:00:28.336554",
     "status": "completed"
    },
    "tags": []
   },
   "source": [
    "## z. Save models"
   ]
  },
  {
   "cell_type": "code",
   "execution_count": 10,
   "id": "41c166f7",
   "metadata": {
    "execution": {
     "iopub.execute_input": "2025-03-11T13:00:28.351618Z",
     "iopub.status.busy": "2025-03-11T13:00:28.351272Z",
     "iopub.status.idle": "2025-03-11T13:00:28.466190Z",
     "shell.execute_reply": "2025-03-11T13:00:28.465095Z"
    },
    "papermill": {
     "duration": 0.122375,
     "end_time": "2025-03-11T13:00:28.468135",
     "exception": false,
     "start_time": "2025-03-11T13:00:28.345760",
     "status": "completed"
    },
    "tags": []
   },
   "outputs": [
    {
     "data": {
      "text/plain": [
       "['random_forest_model.pkl']"
      ]
     },
     "execution_count": 10,
     "metadata": {},
     "output_type": "execute_result"
    }
   ],
   "source": [
    "import joblib\n",
    "\n",
    "# Save the trained Random Forest model\n",
    "joblib.dump(best_rf_model, \"random_forest_model.pkl\")"
   ]
  }
 ],
 "metadata": {
  "kaggle": {
   "accelerator": "none",
   "dataSources": [
    {
     "datasetId": 6837566,
     "sourceId": 10985952,
     "sourceType": "datasetVersion"
    }
   ],
   "dockerImageVersionId": 30918,
   "isGpuEnabled": false,
   "isInternetEnabled": true,
   "language": "python",
   "sourceType": "notebook"
  },
  "kernelspec": {
   "display_name": "Python 3",
   "language": "python",
   "name": "python3"
  },
  "language_info": {
   "codemirror_mode": {
    "name": "ipython",
    "version": 3
   },
   "file_extension": ".py",
   "mimetype": "text/x-python",
   "name": "python",
   "nbconvert_exporter": "python",
   "pygments_lexer": "ipython3",
   "version": "3.10.12"
  },
  "papermill": {
   "default_parameters": {},
   "duration": 286.706503,
   "end_time": "2025-03-11T13:00:30.201256",
   "environment_variables": {},
   "exception": null,
   "input_path": "__notebook__.ipynb",
   "output_path": "__notebook__.ipynb",
   "parameters": {},
   "start_time": "2025-03-11T12:55:43.494753",
   "version": "2.6.0"
  }
 },
 "nbformat": 4,
 "nbformat_minor": 5
}
