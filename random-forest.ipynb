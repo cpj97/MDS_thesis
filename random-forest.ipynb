{
 "cells": [
  {
   "cell_type": "markdown",
   "id": "65a6d698",
   "metadata": {
    "papermill": {
     "duration": 0.004888,
     "end_time": "2025-03-11T13:06:35.219206",
     "exception": false,
     "start_time": "2025-03-11T13:06:35.214318",
     "status": "completed"
    },
    "tags": []
   },
   "source": [
    "# MDS-thesis/random_forest"
   ]
  },
  {
   "cell_type": "markdown",
   "id": "3d9f527e",
   "metadata": {
    "papermill": {
     "duration": 0.003892,
     "end_time": "2025-03-11T13:06:35.227533",
     "exception": false,
     "start_time": "2025-03-11T13:06:35.223641",
     "status": "completed"
    },
    "tags": []
   },
   "source": [
    "## 0.Setup"
   ]
  },
  {
   "cell_type": "markdown",
   "id": "4a4e5d39",
   "metadata": {
    "papermill": {
     "duration": 0.003791,
     "end_time": "2025-03-11T13:06:35.235516",
     "exception": false,
     "start_time": "2025-03-11T13:06:35.231725",
     "status": "completed"
    },
    "tags": []
   },
   "source": [
    "### Install packages"
   ]
  },
  {
   "cell_type": "code",
   "execution_count": 1,
   "id": "902f3132",
   "metadata": {
    "execution": {
     "iopub.execute_input": "2025-03-11T13:06:35.245339Z",
     "iopub.status.busy": "2025-03-11T13:06:35.244863Z",
     "iopub.status.idle": "2025-03-11T13:06:35.250926Z",
     "shell.execute_reply": "2025-03-11T13:06:35.249763Z"
    },
    "papermill": {
     "duration": 0.012959,
     "end_time": "2025-03-11T13:06:35.252543",
     "exception": false,
     "start_time": "2025-03-11T13:06:35.239584",
     "status": "completed"
    },
    "tags": []
   },
   "outputs": [],
   "source": [
    "# Install required packages\n",
    "#!pip install seaborn\n",
    "#%pip install -q pandas matplotlib numpy scikit-learn\n",
    "#%pip install torch torchvision torchaudio --index-url https://download.pytorch.org/whl/cu118"
   ]
  },
  {
   "cell_type": "markdown",
   "id": "675821ee",
   "metadata": {
    "papermill": {
     "duration": 0.003884,
     "end_time": "2025-03-11T13:06:35.260877",
     "exception": false,
     "start_time": "2025-03-11T13:06:35.256993",
     "status": "completed"
    },
    "tags": []
   },
   "source": [
    "### Load packages"
   ]
  },
  {
   "cell_type": "code",
   "execution_count": 2,
   "id": "a37974b9",
   "metadata": {
    "execution": {
     "iopub.execute_input": "2025-03-11T13:06:35.270408Z",
     "iopub.status.busy": "2025-03-11T13:06:35.270092Z",
     "iopub.status.idle": "2025-03-11T13:06:42.397155Z",
     "shell.execute_reply": "2025-03-11T13:06:42.395988Z"
    },
    "papermill": {
     "duration": 7.134276,
     "end_time": "2025-03-11T13:06:42.399275",
     "exception": false,
     "start_time": "2025-03-11T13:06:35.264999",
     "status": "completed"
    },
    "tags": []
   },
   "outputs": [],
   "source": [
    "# Import packages\n",
    "import numpy as np\n",
    "import matplotlib.pyplot as plt\n",
    "import pandas as pd\n",
    "import torch\n",
    "%matplotlib inline\n",
    "#to display matplotlib plots directly in the notebook\n",
    "\n",
    "from sklearn import linear_model\n",
    "#from sklearn.metrics import mean_absolute_error, mean_squared_error, root_mean_squared_error, r2_score\n",
    "from sklearn.ensemble import RandomForestRegressor\n",
    "#from sklearn.model_selection import TimeSeriesSplit\n",
    "#from sklearn.model_selection import train_test_split\n",
    "from sklearn.model_selection import KFold\n",
    "from sklearn.preprocessing import StandardScaler"
   ]
  },
  {
   "cell_type": "markdown",
   "id": "f464b3a5",
   "metadata": {
    "papermill": {
     "duration": 0.004137,
     "end_time": "2025-03-11T13:06:42.408009",
     "exception": false,
     "start_time": "2025-03-11T13:06:42.403872",
     "status": "completed"
    },
    "tags": []
   },
   "source": [
    "## 1. Load Data"
   ]
  },
  {
   "cell_type": "markdown",
   "id": "96f43128",
   "metadata": {
    "papermill": {
     "duration": 0.003893,
     "end_time": "2025-03-11T13:06:42.416295",
     "exception": false,
     "start_time": "2025-03-11T13:06:42.412402",
     "status": "completed"
    },
    "tags": []
   },
   "source": [
    "### VSCode"
   ]
  },
  {
   "cell_type": "code",
   "execution_count": 3,
   "id": "bf0ee7d7",
   "metadata": {
    "execution": {
     "iopub.execute_input": "2025-03-11T13:06:42.426193Z",
     "iopub.status.busy": "2025-03-11T13:06:42.425655Z",
     "iopub.status.idle": "2025-03-11T13:06:42.429846Z",
     "shell.execute_reply": "2025-03-11T13:06:42.428839Z"
    },
    "papermill": {
     "duration": 0.010865,
     "end_time": "2025-03-11T13:06:42.431313",
     "exception": false,
     "start_time": "2025-03-11T13:06:42.420448",
     "status": "completed"
    },
    "tags": []
   },
   "outputs": [],
   "source": [
    "# Import train\n",
    "#train = pd.read_csv('../Data/train_test/train_df.csv')\n",
    "#train = pd.read_csv('Data/train_test/train_df.csv')\n",
    "\n",
    "# Import test\n",
    "#test = pd.read_csv('../Data/train_test/test_df.csv')\n",
    "#test = pd.read_csv('Data/train_test/test_df.csv')"
   ]
  },
  {
   "cell_type": "markdown",
   "id": "ca584952",
   "metadata": {
    "papermill": {
     "duration": 0.004003,
     "end_time": "2025-03-11T13:06:42.439898",
     "exception": false,
     "start_time": "2025-03-11T13:06:42.435895",
     "status": "completed"
    },
    "tags": []
   },
   "source": [
    "### Colab"
   ]
  },
  {
   "cell_type": "code",
   "execution_count": 4,
   "id": "98675ac2",
   "metadata": {
    "execution": {
     "iopub.execute_input": "2025-03-11T13:06:42.449694Z",
     "iopub.status.busy": "2025-03-11T13:06:42.449301Z",
     "iopub.status.idle": "2025-03-11T13:06:42.453581Z",
     "shell.execute_reply": "2025-03-11T13:06:42.452608Z"
    },
    "papermill": {
     "duration": 0.011097,
     "end_time": "2025-03-11T13:06:42.455201",
     "exception": false,
     "start_time": "2025-03-11T13:06:42.444104",
     "status": "completed"
    },
    "tags": []
   },
   "outputs": [],
   "source": [
    "import pandas as pd\n",
    "#file_path = \"/content/train_df.csv\"  # Adjust this path\n",
    "#train = pd.read_csv(file_path)\n",
    "#display(train)\n",
    "\n",
    "#file_path = \"/content/test_df.csv\"  # Adjust this path\n",
    "#test = pd.read_csv(file_path)\n",
    "#display(test)"
   ]
  },
  {
   "cell_type": "markdown",
   "id": "b5409733",
   "metadata": {
    "papermill": {
     "duration": 0.004166,
     "end_time": "2025-03-11T13:06:42.463945",
     "exception": false,
     "start_time": "2025-03-11T13:06:42.459779",
     "status": "completed"
    },
    "tags": []
   },
   "source": [
    "### Kaggle"
   ]
  },
  {
   "cell_type": "code",
   "execution_count": 5,
   "id": "a042f4ce",
   "metadata": {
    "execution": {
     "iopub.execute_input": "2025-03-11T13:06:42.473886Z",
     "iopub.status.busy": "2025-03-11T13:06:42.473461Z",
     "iopub.status.idle": "2025-03-11T13:06:49.583201Z",
     "shell.execute_reply": "2025-03-11T13:06:49.581576Z"
    },
    "papermill": {
     "duration": 7.116755,
     "end_time": "2025-03-11T13:06:49.585024",
     "exception": false,
     "start_time": "2025-03-11T13:06:42.468269",
     "status": "completed"
    },
    "tags": []
   },
   "outputs": [],
   "source": [
    "import os\n",
    "import pandas as pd\n",
    "\n",
    "# Define dataset path\n",
    "ds_path = \"/kaggle/input/final-ds\"\n",
    "\n",
    "# Create a list with the files in the dataset (dataframes)\n",
    "ds_files = os.listdir(ds_path) #list available files in the dataset\n",
    "\n",
    "# Load each file into a dictionary (assuming all files are csv)\n",
    "ds = {file: pd.read_csv(f\"{ds_path}/{file}\") for file in ds_files}\n",
    "\n",
    "# Create the specific dataframe\n",
    "final = ds[ds_files[0]] #first csv file\n",
    "#final.head()\n",
    "test = ds[ds_files[1]]  \n",
    "#test.head()\n",
    "train = ds[ds_files[2]]  \n",
    "#train.head()\n"
   ]
  },
  {
   "cell_type": "markdown",
   "id": "4ae425aa",
   "metadata": {
    "papermill": {
     "duration": 0.004378,
     "end_time": "2025-03-11T13:06:49.594096",
     "exception": false,
     "start_time": "2025-03-11T13:06:49.589718",
     "status": "completed"
    },
    "tags": []
   },
   "source": [
    "## 2. Preprocess"
   ]
  },
  {
   "cell_type": "code",
   "execution_count": 6,
   "id": "d2cc8d01",
   "metadata": {
    "execution": {
     "iopub.execute_input": "2025-03-11T13:06:49.604288Z",
     "iopub.status.busy": "2025-03-11T13:06:49.603896Z",
     "iopub.status.idle": "2025-03-11T13:06:50.069941Z",
     "shell.execute_reply": "2025-03-11T13:06:50.068651Z"
    },
    "papermill": {
     "duration": 0.474041,
     "end_time": "2025-03-11T13:06:50.072635",
     "exception": false,
     "start_time": "2025-03-11T13:06:49.598594",
     "status": "completed"
    },
    "tags": []
   },
   "outputs": [],
   "source": [
    "import numpy as np\n",
    "from sklearn.preprocessing import StandardScaler\n",
    "\n",
    "# y train and test\n",
    "y_train = train['tc_loss_area']\n",
    "y_test = test['tc_loss_area']\n",
    "\n",
    "# Normalize output\n",
    "scaler = StandardScaler()\n",
    "y_train = scaler.fit_transform(y_train.values.reshape(-1, 1))\n",
    "y_test = scaler.transform(y_test.values.reshape(-1, 1))\n",
    "\n",
    "\n",
    "# Get rid of columns that start with 'subnational1_' and 'cluster_' in train and test   \n",
    "train1 = train.loc[:,~train.columns.str.startswith('subnational1_')]\n",
    "train1 = train.loc[:,~train.columns.str.startswith('cluster_')]\n",
    "test1 = test.loc[:,~test.columns.str.startswith('subnational1_')]\n",
    "test1 = test.loc[:,~test.columns.str.startswith('cluster_')]\n",
    "\n",
    "# X train and test\n",
    "X_train1 = train1.drop(columns=['tc_loss_area', 'codmpio'])\n",
    "X_test1 = test1.drop(columns=['tc_loss_area', 'codmpio'])\n",
    "\n",
    "# Normalize features\n",
    "X_train1 = scaler.fit_transform(X_train1)\n",
    "X_test1 = scaler.transform(X_test1)"
   ]
  },
  {
   "cell_type": "markdown",
   "id": "ab123a75",
   "metadata": {
    "papermill": {
     "duration": 0.005333,
     "end_time": "2025-03-11T13:06:50.084239",
     "exception": false,
     "start_time": "2025-03-11T13:06:50.078906",
     "status": "completed"
    },
    "tags": []
   },
   "source": [
    "## 3. Model"
   ]
  },
  {
   "cell_type": "code",
   "execution_count": 7,
   "id": "5eb3320d",
   "metadata": {
    "execution": {
     "iopub.execute_input": "2025-03-11T13:06:50.096062Z",
     "iopub.status.busy": "2025-03-11T13:06:50.095695Z",
     "iopub.status.idle": "2025-03-11T13:06:54.419799Z",
     "shell.execute_reply": "2025-03-11T13:06:54.418586Z"
    },
    "papermill": {
     "duration": 4.332925,
     "end_time": "2025-03-11T13:06:54.421754",
     "exception": false,
     "start_time": "2025-03-11T13:06:50.088829",
     "status": "completed"
    },
    "tags": []
   },
   "outputs": [
    {
     "name": "stdout",
     "output_type": "stream",
     "text": [
      "Train MSE: 0.0520, Train R²: 0.9480\n",
      "Test MSE: 0.8313, Test R²: -0.0444\n"
     ]
    }
   ],
   "source": [
    "from sklearn.ensemble import RandomForestRegressor\n",
    "from sklearn.metrics import mean_squared_error, r2_score\n",
    "\n",
    "# Define the Random Forest model\n",
    "rf_model = RandomForestRegressor(n_estimators=100, random_state=17, n_jobs=-1)\n",
    "\n",
    "# Train the model\n",
    "rf_model.fit(X_train1, y_train.ravel())  # `ravel()` converts y_train to a 1D array if needed\n",
    "\n",
    "# Make predictions\n",
    "y_pred_train = rf_model.predict(X_train1)\n",
    "y_pred_test = rf_model.predict(X_test1)\n",
    "\n",
    "# Evaluate the model\n",
    "train_mse = mean_squared_error(y_train, y_pred_train)\n",
    "test_mse = mean_squared_error(y_test, y_pred_test)\n",
    "train_r2 = r2_score(y_train, y_pred_train)\n",
    "test_r2 = r2_score(y_test, y_pred_test)\n",
    "\n",
    "# Print results\n",
    "print(f\"Train MSE: {train_mse:.4f}, Train R²: {train_r2:.4f}\")\n",
    "print(f\"Test MSE: {test_mse:.4f}, Test R²: {test_r2:.4f}\")\n"
   ]
  },
  {
   "cell_type": "markdown",
   "id": "9744bd54",
   "metadata": {
    "papermill": {
     "duration": 0.004148,
     "end_time": "2025-03-11T13:06:54.430517",
     "exception": false,
     "start_time": "2025-03-11T13:06:54.426369",
     "status": "completed"
    },
    "tags": []
   },
   "source": [
    "## 4. Hyperparameter tunning"
   ]
  },
  {
   "cell_type": "code",
   "execution_count": 8,
   "id": "b4825ecf",
   "metadata": {
    "execution": {
     "iopub.execute_input": "2025-03-11T13:06:54.441325Z",
     "iopub.status.busy": "2025-03-11T13:06:54.440837Z",
     "iopub.status.idle": "2025-03-11T13:11:17.326495Z",
     "shell.execute_reply": "2025-03-11T13:11:17.325025Z"
    },
    "papermill": {
     "duration": 262.89834,
     "end_time": "2025-03-11T13:11:17.333227",
     "exception": false,
     "start_time": "2025-03-11T13:06:54.434887",
     "status": "completed"
    },
    "tags": []
   },
   "outputs": [
    {
     "name": "stdout",
     "output_type": "stream",
     "text": [
      "Fitting 5 folds for each of 20 candidates, totalling 100 fits\n",
      "Best Parameters: {'n_estimators': 300, 'min_samples_split': 10, 'min_samples_leaf': 1, 'max_features': 'sqrt', 'max_depth': None}\n"
     ]
    }
   ],
   "source": [
    "from sklearn.model_selection import RandomizedSearchCV\n",
    "from sklearn.ensemble import RandomForestRegressor\n",
    "import numpy as np\n",
    "\n",
    "# Define the parameter grid\n",
    "param_dist = {\n",
    "    \"n_estimators\": [100, 200, 300, 500],  # Number of trees\n",
    "    \"max_depth\": [10, 20, 30, None],  # Max depth of trees\n",
    "    \"min_samples_split\": [2, 5, 10],  # Minimum samples to split a node\n",
    "    \"min_samples_leaf\": [1, 2, 4],  # Minimum samples in a leaf node\n",
    "    \"max_features\": [\"sqrt\", \"log2\", None]  # Number of features considered per split\n",
    "}\n",
    "\n",
    "# Initialize the Random Forest Regressor\n",
    "rf = RandomForestRegressor(random_state=42)\n",
    "\n",
    "# Randomized Search Cross Validation\n",
    "random_search = RandomizedSearchCV(\n",
    "    rf, param_distributions=param_dist,\n",
    "    n_iter=20, cv=5, scoring=\"neg_mean_squared_error\",\n",
    "    verbose=2, n_jobs=-1, random_state=42\n",
    ")\n",
    "\n",
    "# Fit the model\n",
    "random_search.fit(X_train1, y_train.ravel())\n",
    "\n",
    "# Best parameters found\n",
    "print(\"Best Parameters:\", random_search.best_params_)\n",
    "\n",
    "# Best model\n",
    "best_rf_model = random_search.best_estimator_\n"
   ]
  },
  {
   "cell_type": "markdown",
   "id": "0fe112e0",
   "metadata": {
    "papermill": {
     "duration": 0.004391,
     "end_time": "2025-03-11T13:11:17.342345",
     "exception": false,
     "start_time": "2025-03-11T13:11:17.337954",
     "status": "completed"
    },
    "tags": []
   },
   "source": [
    "## 5. Evaluate model"
   ]
  },
  {
   "cell_type": "code",
   "execution_count": 9,
   "id": "88f4bdb0",
   "metadata": {
    "execution": {
     "iopub.execute_input": "2025-03-11T13:11:17.353415Z",
     "iopub.status.busy": "2025-03-11T13:11:17.353043Z",
     "iopub.status.idle": "2025-03-11T13:11:17.882567Z",
     "shell.execute_reply": "2025-03-11T13:11:17.881205Z"
    },
    "papermill": {
     "duration": 0.537429,
     "end_time": "2025-03-11T13:11:17.884505",
     "exception": false,
     "start_time": "2025-03-11T13:11:17.347076",
     "status": "completed"
    },
    "tags": []
   },
   "outputs": [
    {
     "name": "stdout",
     "output_type": "stream",
     "text": [
      "Optimized Train MSE: 0.1706, Train R²: 0.8294\n",
      "Optimized Test MSE: 0.7624, Test R²: 0.0421\n"
     ]
    }
   ],
   "source": [
    "from sklearn.metrics import mean_squared_error, r2_score\n",
    "\n",
    "# Predict on test data\n",
    "y_pred_test = best_rf_model.predict(X_test1)\n",
    "y_pred_train = best_rf_model.predict(X_train1)\n",
    "\n",
    "# Evaluate performance\n",
    "train_mse = mean_squared_error(y_train, y_pred_train)\n",
    "test_mse = mean_squared_error(y_test, y_pred_test)\n",
    "train_r2 = r2_score(y_train, y_pred_train)\n",
    "test_r2 = r2_score(y_test, y_pred_test)\n",
    "\n",
    "print(f\"Optimized Train MSE: {train_mse:.4f}, Train R²: {train_r2:.4f}\")\n",
    "print(f\"Optimized Test MSE: {test_mse:.4f}, Test R²: {test_r2:.4f}\")\n"
   ]
  },
  {
   "cell_type": "markdown",
   "id": "70eb1df5",
   "metadata": {
    "papermill": {
     "duration": 0.004564,
     "end_time": "2025-03-11T13:11:17.896173",
     "exception": false,
     "start_time": "2025-03-11T13:11:17.891609",
     "status": "completed"
    },
    "tags": []
   },
   "source": [
    "## z. Save models"
   ]
  },
  {
   "cell_type": "code",
   "execution_count": 10,
   "id": "e1a9faa8",
   "metadata": {
    "execution": {
     "iopub.execute_input": "2025-03-11T13:11:17.907056Z",
     "iopub.status.busy": "2025-03-11T13:11:17.906643Z",
     "iopub.status.idle": "2025-03-11T13:11:18.065891Z",
     "shell.execute_reply": "2025-03-11T13:11:18.064615Z"
    },
    "papermill": {
     "duration": 0.166718,
     "end_time": "2025-03-11T13:11:18.067690",
     "exception": false,
     "start_time": "2025-03-11T13:11:17.900972",
     "status": "completed"
    },
    "tags": []
   },
   "outputs": [
    {
     "data": {
      "text/plain": [
       "['best_rf_model.pkl']"
      ]
     },
     "execution_count": 10,
     "metadata": {},
     "output_type": "execute_result"
    }
   ],
   "source": [
    "import joblib\n",
    "\n",
    "# Save the trained Random Forest model\n",
    "joblib.dump(rf_model, \"rf_model.pkl\")\n",
    "joblib.dump(best_rf_model, \"best_rf_model.pkl\")\n"
   ]
  }
 ],
 "metadata": {
  "kaggle": {
   "accelerator": "none",
   "dataSources": [
    {
     "datasetId": 6837566,
     "sourceId": 10985952,
     "sourceType": "datasetVersion"
    }
   ],
   "dockerImageVersionId": 30918,
   "isGpuEnabled": false,
   "isInternetEnabled": true,
   "language": "python",
   "sourceType": "notebook"
  },
  "kernelspec": {
   "display_name": "Python 3",
   "language": "python",
   "name": "python3"
  },
  "language_info": {
   "codemirror_mode": {
    "name": "ipython",
    "version": 3
   },
   "file_extension": ".py",
   "mimetype": "text/x-python",
   "name": "python",
   "nbconvert_exporter": "python",
   "pygments_lexer": "ipython3",
   "version": "3.10.12"
  },
  "papermill": {
   "default_parameters": {},
   "duration": 287.970895,
   "end_time": "2025-03-11T13:11:20.366057",
   "environment_variables": {},
   "exception": null,
   "input_path": "__notebook__.ipynb",
   "output_path": "__notebook__.ipynb",
   "parameters": {},
   "start_time": "2025-03-11T13:06:32.395162",
   "version": "2.6.0"
  }
 },
 "nbformat": 4,
 "nbformat_minor": 5
}
