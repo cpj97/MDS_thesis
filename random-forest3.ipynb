{
 "cells": [
  {
   "cell_type": "markdown",
   "metadata": {},
   "source": [
    "# Roandom Forest"
   ]
  },
  {
   "cell_type": "markdown",
   "metadata": {},
   "source": [
    "## 0. Setup"
   ]
  },
  {
   "cell_type": "markdown",
   "metadata": {},
   "source": [
    "### 0.1. Install packages"
   ]
  },
  {
   "cell_type": "code",
   "execution_count": 36,
   "metadata": {
    "execution": {
     "iopub.execute_input": "2025-03-12T09:07:11.635852Z",
     "iopub.status.busy": "2025-03-12T09:07:11.635460Z",
     "iopub.status.idle": "2025-03-12T09:07:19.489740Z",
     "shell.execute_reply": "2025-03-12T09:07:19.488687Z",
     "shell.execute_reply.started": "2025-03-12T09:07:11.635823Z"
    },
    "trusted": true
   },
   "outputs": [],
   "source": [
    "#!pip install torch torchvision torchaudio --index-url https://download.pytorch.org/whl/cu118\n",
    "#!pip install panelsplit\n",
    "#!pip install openpyxl"
   ]
  },
  {
   "cell_type": "markdown",
   "metadata": {},
   "source": [
    "### 0.2. Load packages"
   ]
  },
  {
   "cell_type": "code",
   "execution_count": 37,
   "metadata": {
    "execution": {
     "iopub.execute_input": "2025-03-12T09:07:19.491696Z",
     "iopub.status.busy": "2025-03-12T09:07:19.491359Z",
     "iopub.status.idle": "2025-03-12T09:07:19.497614Z",
     "shell.execute_reply": "2025-03-12T09:07:19.496644Z",
     "shell.execute_reply.started": "2025-03-12T09:07:19.491669Z"
    },
    "trusted": true
   },
   "outputs": [],
   "source": [
    "# from sklearn.model_selection import KFold\n",
    "from sklearn.metrics import mean_squared_error, mean_absolute_error, r2_score\n",
    "from sklearn.feature_selection import VarianceThreshold\n",
    "from sklearn.feature_selection import SelectKBest, f_regression, mutual_info_regression\n",
    "import random\n",
    "\n",
    "from panelsplit.cross_validation import PanelSplit\n",
    "\n",
    "import shap\n",
    "import matplotlib.pyplot as plt\n",
    "\n",
    "import numpy as np\n",
    "import pandas as pd\n",
    "import os\n",
    "import openpyxl\n",
    "\n",
    "from sklearn.ensemble import RandomForestRegressor\n",
    "from sklearn.preprocessing import PolynomialFeatures\n",
    "from sklearn.metrics import mean_squared_error, mean_absolute_error, r2_score\n",
    "from sklearn.model_selection import TimeSeriesSplit  # Alternative to PanelSplit"
   ]
  },
  {
   "cell_type": "markdown",
   "metadata": {},
   "source": [
    "### 0.3. Load Data"
   ]
  },
  {
   "cell_type": "code",
   "execution_count": 38,
   "metadata": {},
   "outputs": [],
   "source": [
    "### Check working directory\n",
    "#print(os.getcwd()) \n",
    "\n",
    "### Define file and path\n",
    "file_path = r\"c:\\Users\\mmier\\OneDrive - Hertie School\\3. Estudio\\2025 MDS\\2025-1 MDS Thesis\\MDS_thesis\\Data\\OSC\" #Use a raw string (r\"\") when defining paths\n",
    "file = \"Datos-ICM-2023.xlsx\"\n",
    "full_path = os.path.join(file_path, file)\n",
    "\n",
    "### List files in directory\n",
    "#print(os.listdir(file_path))\n",
    "\n",
    "### Load excel file\n",
    "df = pd.read_excel(full_path, engine=\"openpyxl\")\n",
    "\n",
    "# Display the first few rows\n",
    "#print(df.head())"
   ]
  },
  {
   "cell_type": "markdown",
   "metadata": {},
   "source": [
    "### 0.4. Correct df format"
   ]
  },
  {
   "cell_type": "code",
   "execution_count": 39,
   "metadata": {},
   "outputs": [],
   "source": [
    "### Rename columns names with row 4\n",
    "df.columns = df.iloc[3]\n",
    "\n",
    "### Delete first (index 0) and third (index 2) row\n",
    "df = df.drop([0, 1, 2, 3], axis=0)\n",
    "\n",
    "### Reset index \n",
    "df = df.reset_index(drop=True)\n"
   ]
  },
  {
   "cell_type": "markdown",
   "metadata": {},
   "source": [
    "## 1. Preparations"
   ]
  },
  {
   "cell_type": "markdown",
   "metadata": {},
   "source": [
    "### 1.1. Define train, test and evaluation set\n",
    "\n",
    "Evaluation set: 2019 to 2022"
   ]
  },
  {
   "cell_type": "code",
   "execution_count": 40,
   "metadata": {},
   "outputs": [],
   "source": [
    "### Separate evaluation set \n",
    "final_df = df[df[\"AÑO\"] < 2019]"
   ]
  },
  {
   "cell_type": "markdown",
   "metadata": {},
   "source": [
    "### 1.2. Define y and X1\n",
    "\n",
    "y: deforestation\n",
    "\n",
    "M-03-25\tHectáreas de bosque deforestadas\n",
    "\n",
    "X1: general vaqriables\n",
    "\n",
    "ICM-00-0\tÍndice de Ciudades Modernas\n",
    "PCC-00-0\tÍndice de Productividad, Competitividad y Complementariedad Económica\n",
    "GPI-00-0\tÍndice de Gobernanza, Participación e Instituciones\n",
    "EIS-00-0\tÍndice de Equidad e inclusión social\n",
    "CTI-00-0\tÍndice de Ciencia, Tecnología e Innovación\n",
    "SEG-00-0\tÍndice de Seguridad\n",
    "SOS-00-0\tÍndice de Sostenibilidad\n"
   ]
  },
  {
   "cell_type": "code",
   "execution_count": 41,
   "metadata": {},
   "outputs": [],
   "source": [
    "### Define y\n",
    "y = final_df[\"M-03-25\"]\n",
    "\n",
    "### Define X1: general variables \n",
    "X1 = final_df[[\"ICM-00-0\", \"PCC-00-0\", \"GPI-00-0\", \"EIS-00-0\", \"CTI-00-0\", \"SEG-00-0\", \"SOS-00-0\"]]"
   ]
  },
  {
   "cell_type": "code",
   "execution_count": 42,
   "metadata": {
    "execution": {
     "iopub.execute_input": "2025-03-12T09:07:23.925137Z",
     "iopub.status.busy": "2025-03-12T09:07:23.924870Z",
     "iopub.status.idle": "2025-03-12T09:07:24.253388Z",
     "shell.execute_reply": "2025-03-12T09:07:24.252429Z",
     "shell.execute_reply.started": "2025-03-12T09:07:23.925116Z"
    },
    "trusted": true
   },
   "outputs": [
    {
     "name": "stdout",
     "output_type": "stream",
     "text": [
      "Missing values in X1:\n",
      "0\n",
      "Missing values in y:\n",
      "7\n"
     ]
    }
   ],
   "source": [
    "### Check for missing values\n",
    "print(f\"Missing values in X1:\\n{X1.isnull().sum().sum()}\")\n",
    "print(f\"Missing values in y:\\n{y.isnull().sum().sum()}\")\n",
    "\n",
    "### Remove NAS\n",
    "df_combined = pd.concat([X1, y], axis=1)  # Combine into one DataFrame\n",
    "df_combined.dropna(inplace=True)  # Remove rows with any NaN values\n",
    "X1 = df_combined.iloc[:, :-1]  # All columns except the last (features)\n",
    "y = df_combined.iloc[:, -1]    # The last column (target variable)"
   ]
  },
  {
   "cell_type": "markdown",
   "metadata": {},
   "source": [
    "## 2. Random Forest Model"
   ]
  },
  {
   "cell_type": "code",
   "execution_count": 43,
   "metadata": {},
   "outputs": [
    {
     "name": "stderr",
     "output_type": "stream",
     "text": [
      "C:\\Users\\mmier\\AppData\\Local\\Temp\\ipykernel_35868\\3273525698.py:40: FutureWarning: Series.ravel is deprecated. The underlying array is already 1D, so ravel is not necessary.  Use `to_numpy()` for conversion to a numpy array instead.\n",
      "  model.fit(X1_train, y_train.ravel())\n",
      "C:\\Users\\mmier\\AppData\\Local\\Temp\\ipykernel_35868\\3273525698.py:40: FutureWarning: Series.ravel is deprecated. The underlying array is already 1D, so ravel is not necessary.  Use `to_numpy()` for conversion to a numpy array instead.\n",
      "  model.fit(X1_train, y_train.ravel())\n",
      "C:\\Users\\mmier\\AppData\\Local\\Temp\\ipykernel_35868\\3273525698.py:40: FutureWarning: Series.ravel is deprecated. The underlying array is already 1D, so ravel is not necessary.  Use `to_numpy()` for conversion to a numpy array instead.\n",
      "  model.fit(X1_train, y_train.ravel())\n",
      "C:\\Users\\mmier\\AppData\\Local\\Temp\\ipykernel_35868\\3273525698.py:40: FutureWarning: Series.ravel is deprecated. The underlying array is already 1D, so ravel is not necessary.  Use `to_numpy()` for conversion to a numpy array instead.\n",
      "  model.fit(X1_train, y_train.ravel())\n",
      "C:\\Users\\mmier\\AppData\\Local\\Temp\\ipykernel_35868\\3273525698.py:40: FutureWarning: Series.ravel is deprecated. The underlying array is already 1D, so ravel is not necessary.  Use `to_numpy()` for conversion to a numpy array instead.\n",
      "  model.fit(X1_train, y_train.ravel())\n",
      "C:\\Users\\mmier\\AppData\\Local\\Temp\\ipykernel_35868\\3273525698.py:40: FutureWarning: Series.ravel is deprecated. The underlying array is already 1D, so ravel is not necessary.  Use `to_numpy()` for conversion to a numpy array instead.\n",
      "  model.fit(X1_train, y_train.ravel())\n",
      "C:\\Users\\mmier\\AppData\\Local\\Temp\\ipykernel_35868\\3273525698.py:40: FutureWarning: Series.ravel is deprecated. The underlying array is already 1D, so ravel is not necessary.  Use `to_numpy()` for conversion to a numpy array instead.\n",
      "  model.fit(X1_train, y_train.ravel())\n",
      "C:\\Users\\mmier\\AppData\\Local\\Temp\\ipykernel_35868\\3273525698.py:40: FutureWarning: Series.ravel is deprecated. The underlying array is already 1D, so ravel is not necessary.  Use `to_numpy()` for conversion to a numpy array instead.\n",
      "  model.fit(X1_train, y_train.ravel())\n",
      "C:\\Users\\mmier\\AppData\\Local\\Temp\\ipykernel_35868\\3273525698.py:40: FutureWarning: Series.ravel is deprecated. The underlying array is already 1D, so ravel is not necessary.  Use `to_numpy()` for conversion to a numpy array instead.\n",
      "  model.fit(X1_train, y_train.ravel())\n",
      "C:\\Users\\mmier\\AppData\\Local\\Temp\\ipykernel_35868\\3273525698.py:40: FutureWarning: Series.ravel is deprecated. The underlying array is already 1D, so ravel is not necessary.  Use `to_numpy()` for conversion to a numpy array instead.\n",
      "  model.fit(X1_train, y_train.ravel())\n",
      "C:\\Users\\mmier\\AppData\\Local\\Temp\\ipykernel_35868\\3273525698.py:40: FutureWarning: Series.ravel is deprecated. The underlying array is already 1D, so ravel is not necessary.  Use `to_numpy()` for conversion to a numpy array instead.\n",
      "  model.fit(X1_train, y_train.ravel())\n",
      "C:\\Users\\mmier\\AppData\\Local\\Temp\\ipykernel_35868\\3273525698.py:40: FutureWarning: Series.ravel is deprecated. The underlying array is already 1D, so ravel is not necessary.  Use `to_numpy()` for conversion to a numpy array instead.\n",
      "  model.fit(X1_train, y_train.ravel())\n",
      "C:\\Users\\mmier\\AppData\\Local\\Temp\\ipykernel_35868\\3273525698.py:40: FutureWarning: Series.ravel is deprecated. The underlying array is already 1D, so ravel is not necessary.  Use `to_numpy()` for conversion to a numpy array instead.\n",
      "  model.fit(X1_train, y_train.ravel())\n",
      "C:\\Users\\mmier\\AppData\\Local\\Temp\\ipykernel_35868\\3273525698.py:40: FutureWarning: Series.ravel is deprecated. The underlying array is already 1D, so ravel is not necessary.  Use `to_numpy()` for conversion to a numpy array instead.\n",
      "  model.fit(X1_train, y_train.ravel())\n",
      "C:\\Users\\mmier\\AppData\\Local\\Temp\\ipykernel_35868\\3273525698.py:40: FutureWarning: Series.ravel is deprecated. The underlying array is already 1D, so ravel is not necessary.  Use `to_numpy()` for conversion to a numpy array instead.\n",
      "  model.fit(X1_train, y_train.ravel())\n",
      "C:\\Users\\mmier\\AppData\\Local\\Temp\\ipykernel_35868\\3273525698.py:40: FutureWarning: Series.ravel is deprecated. The underlying array is already 1D, so ravel is not necessary.  Use `to_numpy()` for conversion to a numpy array instead.\n",
      "  model.fit(X1_train, y_train.ravel())\n",
      "C:\\Users\\mmier\\AppData\\Local\\Temp\\ipykernel_35868\\3273525698.py:40: FutureWarning: Series.ravel is deprecated. The underlying array is already 1D, so ravel is not necessary.  Use `to_numpy()` for conversion to a numpy array instead.\n",
      "  model.fit(X1_train, y_train.ravel())\n",
      "C:\\Users\\mmier\\AppData\\Local\\Temp\\ipykernel_35868\\3273525698.py:40: FutureWarning: Series.ravel is deprecated. The underlying array is already 1D, so ravel is not necessary.  Use `to_numpy()` for conversion to a numpy array instead.\n",
      "  model.fit(X1_train, y_train.ravel())\n",
      "C:\\Users\\mmier\\AppData\\Local\\Temp\\ipykernel_35868\\3273525698.py:40: FutureWarning: Series.ravel is deprecated. The underlying array is already 1D, so ravel is not necessary.  Use `to_numpy()` for conversion to a numpy array instead.\n",
      "  model.fit(X1_train, y_train.ravel())\n",
      "C:\\Users\\mmier\\AppData\\Local\\Temp\\ipykernel_35868\\3273525698.py:40: FutureWarning: Series.ravel is deprecated. The underlying array is already 1D, so ravel is not necessary.  Use `to_numpy()` for conversion to a numpy array instead.\n",
      "  model.fit(X1_train, y_train.ravel())\n",
      "C:\\Users\\mmier\\AppData\\Local\\Temp\\ipykernel_35868\\3273525698.py:40: FutureWarning: Series.ravel is deprecated. The underlying array is already 1D, so ravel is not necessary.  Use `to_numpy()` for conversion to a numpy array instead.\n",
      "  model.fit(X1_train, y_train.ravel())\n",
      "C:\\Users\\mmier\\AppData\\Local\\Temp\\ipykernel_35868\\3273525698.py:40: FutureWarning: Series.ravel is deprecated. The underlying array is already 1D, so ravel is not necessary.  Use `to_numpy()` for conversion to a numpy array instead.\n",
      "  model.fit(X1_train, y_train.ravel())\n",
      "C:\\Users\\mmier\\AppData\\Local\\Temp\\ipykernel_35868\\3273525698.py:40: FutureWarning: Series.ravel is deprecated. The underlying array is already 1D, so ravel is not necessary.  Use `to_numpy()` for conversion to a numpy array instead.\n",
      "  model.fit(X1_train, y_train.ravel())\n",
      "C:\\Users\\mmier\\AppData\\Local\\Temp\\ipykernel_35868\\3273525698.py:40: FutureWarning: Series.ravel is deprecated. The underlying array is already 1D, so ravel is not necessary.  Use `to_numpy()` for conversion to a numpy array instead.\n",
      "  model.fit(X1_train, y_train.ravel())\n",
      "C:\\Users\\mmier\\AppData\\Local\\Temp\\ipykernel_35868\\3273525698.py:40: FutureWarning: Series.ravel is deprecated. The underlying array is already 1D, so ravel is not necessary.  Use `to_numpy()` for conversion to a numpy array instead.\n",
      "  model.fit(X1_train, y_train.ravel())\n",
      "C:\\Users\\mmier\\AppData\\Local\\Temp\\ipykernel_35868\\3273525698.py:40: FutureWarning: Series.ravel is deprecated. The underlying array is already 1D, so ravel is not necessary.  Use `to_numpy()` for conversion to a numpy array instead.\n",
      "  model.fit(X1_train, y_train.ravel())\n",
      "C:\\Users\\mmier\\AppData\\Local\\Temp\\ipykernel_35868\\3273525698.py:40: FutureWarning: Series.ravel is deprecated. The underlying array is already 1D, so ravel is not necessary.  Use `to_numpy()` for conversion to a numpy array instead.\n",
      "  model.fit(X1_train, y_train.ravel())\n",
      "C:\\Users\\mmier\\AppData\\Local\\Temp\\ipykernel_35868\\3273525698.py:40: FutureWarning: Series.ravel is deprecated. The underlying array is already 1D, so ravel is not necessary.  Use `to_numpy()` for conversion to a numpy array instead.\n",
      "  model.fit(X1_train, y_train.ravel())\n",
      "C:\\Users\\mmier\\AppData\\Local\\Temp\\ipykernel_35868\\3273525698.py:40: FutureWarning: Series.ravel is deprecated. The underlying array is already 1D, so ravel is not necessary.  Use `to_numpy()` for conversion to a numpy array instead.\n",
      "  model.fit(X1_train, y_train.ravel())\n",
      "C:\\Users\\mmier\\AppData\\Local\\Temp\\ipykernel_35868\\3273525698.py:40: FutureWarning: Series.ravel is deprecated. The underlying array is already 1D, so ravel is not necessary.  Use `to_numpy()` for conversion to a numpy array instead.\n",
      "  model.fit(X1_train, y_train.ravel())\n",
      "C:\\Users\\mmier\\AppData\\Local\\Temp\\ipykernel_35868\\3273525698.py:40: FutureWarning: Series.ravel is deprecated. The underlying array is already 1D, so ravel is not necessary.  Use `to_numpy()` for conversion to a numpy array instead.\n",
      "  model.fit(X1_train, y_train.ravel())\n",
      "C:\\Users\\mmier\\AppData\\Local\\Temp\\ipykernel_35868\\3273525698.py:40: FutureWarning: Series.ravel is deprecated. The underlying array is already 1D, so ravel is not necessary.  Use `to_numpy()` for conversion to a numpy array instead.\n",
      "  model.fit(X1_train, y_train.ravel())\n",
      "C:\\Users\\mmier\\AppData\\Local\\Temp\\ipykernel_35868\\3273525698.py:40: FutureWarning: Series.ravel is deprecated. The underlying array is already 1D, so ravel is not necessary.  Use `to_numpy()` for conversion to a numpy array instead.\n",
      "  model.fit(X1_train, y_train.ravel())\n",
      "C:\\Users\\mmier\\AppData\\Local\\Temp\\ipykernel_35868\\3273525698.py:40: FutureWarning: Series.ravel is deprecated. The underlying array is already 1D, so ravel is not necessary.  Use `to_numpy()` for conversion to a numpy array instead.\n",
      "  model.fit(X1_train, y_train.ravel())\n",
      "C:\\Users\\mmier\\AppData\\Local\\Temp\\ipykernel_35868\\3273525698.py:40: FutureWarning: Series.ravel is deprecated. The underlying array is already 1D, so ravel is not necessary.  Use `to_numpy()` for conversion to a numpy array instead.\n",
      "  model.fit(X1_train, y_train.ravel())\n",
      "C:\\Users\\mmier\\AppData\\Local\\Temp\\ipykernel_35868\\3273525698.py:40: FutureWarning: Series.ravel is deprecated. The underlying array is already 1D, so ravel is not necessary.  Use `to_numpy()` for conversion to a numpy array instead.\n",
      "  model.fit(X1_train, y_train.ravel())\n",
      "C:\\Users\\mmier\\AppData\\Local\\Temp\\ipykernel_35868\\3273525698.py:40: FutureWarning: Series.ravel is deprecated. The underlying array is already 1D, so ravel is not necessary.  Use `to_numpy()` for conversion to a numpy array instead.\n",
      "  model.fit(X1_train, y_train.ravel())\n",
      "C:\\Users\\mmier\\AppData\\Local\\Temp\\ipykernel_35868\\3273525698.py:40: FutureWarning: Series.ravel is deprecated. The underlying array is already 1D, so ravel is not necessary.  Use `to_numpy()` for conversion to a numpy array instead.\n",
      "  model.fit(X1_train, y_train.ravel())\n",
      "C:\\Users\\mmier\\AppData\\Local\\Temp\\ipykernel_35868\\3273525698.py:40: FutureWarning: Series.ravel is deprecated. The underlying array is already 1D, so ravel is not necessary.  Use `to_numpy()` for conversion to a numpy array instead.\n",
      "  model.fit(X1_train, y_train.ravel())\n",
      "C:\\Users\\mmier\\AppData\\Local\\Temp\\ipykernel_35868\\3273525698.py:40: FutureWarning: Series.ravel is deprecated. The underlying array is already 1D, so ravel is not necessary.  Use `to_numpy()` for conversion to a numpy array instead.\n",
      "  model.fit(X1_train, y_train.ravel())\n",
      "C:\\Users\\mmier\\AppData\\Local\\Temp\\ipykernel_35868\\3273525698.py:40: FutureWarning: Series.ravel is deprecated. The underlying array is already 1D, so ravel is not necessary.  Use `to_numpy()` for conversion to a numpy array instead.\n",
      "  model.fit(X1_train, y_train.ravel())\n",
      "C:\\Users\\mmier\\AppData\\Local\\Temp\\ipykernel_35868\\3273525698.py:40: FutureWarning: Series.ravel is deprecated. The underlying array is already 1D, so ravel is not necessary.  Use `to_numpy()` for conversion to a numpy array instead.\n",
      "  model.fit(X1_train, y_train.ravel())\n",
      "C:\\Users\\mmier\\AppData\\Local\\Temp\\ipykernel_35868\\3273525698.py:40: FutureWarning: Series.ravel is deprecated. The underlying array is already 1D, so ravel is not necessary.  Use `to_numpy()` for conversion to a numpy array instead.\n",
      "  model.fit(X1_train, y_train.ravel())\n",
      "C:\\Users\\mmier\\AppData\\Local\\Temp\\ipykernel_35868\\3273525698.py:40: FutureWarning: Series.ravel is deprecated. The underlying array is already 1D, so ravel is not necessary.  Use `to_numpy()` for conversion to a numpy array instead.\n",
      "  model.fit(X1_train, y_train.ravel())\n",
      "C:\\Users\\mmier\\AppData\\Local\\Temp\\ipykernel_35868\\3273525698.py:40: FutureWarning: Series.ravel is deprecated. The underlying array is already 1D, so ravel is not necessary.  Use `to_numpy()` for conversion to a numpy array instead.\n",
      "  model.fit(X1_train, y_train.ravel())\n",
      "C:\\Users\\mmier\\AppData\\Local\\Temp\\ipykernel_35868\\3273525698.py:40: FutureWarning: Series.ravel is deprecated. The underlying array is already 1D, so ravel is not necessary.  Use `to_numpy()` for conversion to a numpy array instead.\n",
      "  model.fit(X1_train, y_train.ravel())\n",
      "C:\\Users\\mmier\\AppData\\Local\\Temp\\ipykernel_35868\\3273525698.py:40: FutureWarning: Series.ravel is deprecated. The underlying array is already 1D, so ravel is not necessary.  Use `to_numpy()` for conversion to a numpy array instead.\n",
      "  model.fit(X1_train, y_train.ravel())\n",
      "C:\\Users\\mmier\\AppData\\Local\\Temp\\ipykernel_35868\\3273525698.py:40: FutureWarning: Series.ravel is deprecated. The underlying array is already 1D, so ravel is not necessary.  Use `to_numpy()` for conversion to a numpy array instead.\n",
      "  model.fit(X1_train, y_train.ravel())\n",
      "C:\\Users\\mmier\\AppData\\Local\\Temp\\ipykernel_35868\\3273525698.py:40: FutureWarning: Series.ravel is deprecated. The underlying array is already 1D, so ravel is not necessary.  Use `to_numpy()` for conversion to a numpy array instead.\n",
      "  model.fit(X1_train, y_train.ravel())\n",
      "C:\\Users\\mmier\\AppData\\Local\\Temp\\ipykernel_35868\\3273525698.py:40: FutureWarning: Series.ravel is deprecated. The underlying array is already 1D, so ravel is not necessary.  Use `to_numpy()` for conversion to a numpy array instead.\n",
      "  model.fit(X1_train, y_train.ravel())\n",
      "C:\\Users\\mmier\\AppData\\Local\\Temp\\ipykernel_35868\\3273525698.py:40: FutureWarning: Series.ravel is deprecated. The underlying array is already 1D, so ravel is not necessary.  Use `to_numpy()` for conversion to a numpy array instead.\n",
      "  model.fit(X1_train, y_train.ravel())\n",
      "C:\\Users\\mmier\\AppData\\Local\\Temp\\ipykernel_35868\\3273525698.py:40: FutureWarning: Series.ravel is deprecated. The underlying array is already 1D, so ravel is not necessary.  Use `to_numpy()` for conversion to a numpy array instead.\n",
      "  model.fit(X1_train, y_train.ravel())\n",
      "C:\\Users\\mmier\\AppData\\Local\\Temp\\ipykernel_35868\\3273525698.py:40: FutureWarning: Series.ravel is deprecated. The underlying array is already 1D, so ravel is not necessary.  Use `to_numpy()` for conversion to a numpy array instead.\n",
      "  model.fit(X1_train, y_train.ravel())\n",
      "C:\\Users\\mmier\\AppData\\Local\\Temp\\ipykernel_35868\\3273525698.py:40: FutureWarning: Series.ravel is deprecated. The underlying array is already 1D, so ravel is not necessary.  Use `to_numpy()` for conversion to a numpy array instead.\n",
      "  model.fit(X1_train, y_train.ravel())\n",
      "C:\\Users\\mmier\\AppData\\Local\\Temp\\ipykernel_35868\\3273525698.py:40: FutureWarning: Series.ravel is deprecated. The underlying array is already 1D, so ravel is not necessary.  Use `to_numpy()` for conversion to a numpy array instead.\n",
      "  model.fit(X1_train, y_train.ravel())\n",
      "C:\\Users\\mmier\\AppData\\Local\\Temp\\ipykernel_35868\\3273525698.py:40: FutureWarning: Series.ravel is deprecated. The underlying array is already 1D, so ravel is not necessary.  Use `to_numpy()` for conversion to a numpy array instead.\n",
      "  model.fit(X1_train, y_train.ravel())\n",
      "C:\\Users\\mmier\\AppData\\Local\\Temp\\ipykernel_35868\\3273525698.py:40: FutureWarning: Series.ravel is deprecated. The underlying array is already 1D, so ravel is not necessary.  Use `to_numpy()` for conversion to a numpy array instead.\n",
      "  model.fit(X1_train, y_train.ravel())\n",
      "C:\\Users\\mmier\\AppData\\Local\\Temp\\ipykernel_35868\\3273525698.py:40: FutureWarning: Series.ravel is deprecated. The underlying array is already 1D, so ravel is not necessary.  Use `to_numpy()` for conversion to a numpy array instead.\n",
      "  model.fit(X1_train, y_train.ravel())\n",
      "C:\\Users\\mmier\\AppData\\Local\\Temp\\ipykernel_35868\\3273525698.py:40: FutureWarning: Series.ravel is deprecated. The underlying array is already 1D, so ravel is not necessary.  Use `to_numpy()` for conversion to a numpy array instead.\n",
      "  model.fit(X1_train, y_train.ravel())\n",
      "C:\\Users\\mmier\\AppData\\Local\\Temp\\ipykernel_35868\\3273525698.py:40: FutureWarning: Series.ravel is deprecated. The underlying array is already 1D, so ravel is not necessary.  Use `to_numpy()` for conversion to a numpy array instead.\n",
      "  model.fit(X1_train, y_train.ravel())\n",
      "C:\\Users\\mmier\\AppData\\Local\\Temp\\ipykernel_35868\\3273525698.py:40: FutureWarning: Series.ravel is deprecated. The underlying array is already 1D, so ravel is not necessary.  Use `to_numpy()` for conversion to a numpy array instead.\n",
      "  model.fit(X1_train, y_train.ravel())\n",
      "C:\\Users\\mmier\\AppData\\Local\\Temp\\ipykernel_35868\\3273525698.py:40: FutureWarning: Series.ravel is deprecated. The underlying array is already 1D, so ravel is not necessary.  Use `to_numpy()` for conversion to a numpy array instead.\n",
      "  model.fit(X1_train, y_train.ravel())\n",
      "C:\\Users\\mmier\\AppData\\Local\\Temp\\ipykernel_35868\\3273525698.py:40: FutureWarning: Series.ravel is deprecated. The underlying array is already 1D, so ravel is not necessary.  Use `to_numpy()` for conversion to a numpy array instead.\n",
      "  model.fit(X1_train, y_train.ravel())\n",
      "C:\\Users\\mmier\\AppData\\Local\\Temp\\ipykernel_35868\\3273525698.py:40: FutureWarning: Series.ravel is deprecated. The underlying array is already 1D, so ravel is not necessary.  Use `to_numpy()` for conversion to a numpy array instead.\n",
      "  model.fit(X1_train, y_train.ravel())\n",
      "C:\\Users\\mmier\\AppData\\Local\\Temp\\ipykernel_35868\\3273525698.py:40: FutureWarning: Series.ravel is deprecated. The underlying array is already 1D, so ravel is not necessary.  Use `to_numpy()` for conversion to a numpy array instead.\n",
      "  model.fit(X1_train, y_train.ravel())\n",
      "C:\\Users\\mmier\\AppData\\Local\\Temp\\ipykernel_35868\\3273525698.py:40: FutureWarning: Series.ravel is deprecated. The underlying array is already 1D, so ravel is not necessary.  Use `to_numpy()` for conversion to a numpy array instead.\n",
      "  model.fit(X1_train, y_train.ravel())\n",
      "C:\\Users\\mmier\\AppData\\Local\\Temp\\ipykernel_35868\\3273525698.py:40: FutureWarning: Series.ravel is deprecated. The underlying array is already 1D, so ravel is not necessary.  Use `to_numpy()` for conversion to a numpy array instead.\n",
      "  model.fit(X1_train, y_train.ravel())\n",
      "C:\\Users\\mmier\\AppData\\Local\\Temp\\ipykernel_35868\\3273525698.py:40: FutureWarning: Series.ravel is deprecated. The underlying array is already 1D, so ravel is not necessary.  Use `to_numpy()` for conversion to a numpy array instead.\n",
      "  model.fit(X1_train, y_train.ravel())\n",
      "C:\\Users\\mmier\\AppData\\Local\\Temp\\ipykernel_35868\\3273525698.py:40: FutureWarning: Series.ravel is deprecated. The underlying array is already 1D, so ravel is not necessary.  Use `to_numpy()` for conversion to a numpy array instead.\n",
      "  model.fit(X1_train, y_train.ravel())\n",
      "C:\\Users\\mmier\\AppData\\Local\\Temp\\ipykernel_35868\\3273525698.py:40: FutureWarning: Series.ravel is deprecated. The underlying array is already 1D, so ravel is not necessary.  Use `to_numpy()` for conversion to a numpy array instead.\n",
      "  model.fit(X1_train, y_train.ravel())\n",
      "C:\\Users\\mmier\\AppData\\Local\\Temp\\ipykernel_35868\\3273525698.py:40: FutureWarning: Series.ravel is deprecated. The underlying array is already 1D, so ravel is not necessary.  Use `to_numpy()` for conversion to a numpy array instead.\n",
      "  model.fit(X1_train, y_train.ravel())\n",
      "C:\\Users\\mmier\\AppData\\Local\\Temp\\ipykernel_35868\\3273525698.py:40: FutureWarning: Series.ravel is deprecated. The underlying array is already 1D, so ravel is not necessary.  Use `to_numpy()` for conversion to a numpy array instead.\n",
      "  model.fit(X1_train, y_train.ravel())\n",
      "C:\\Users\\mmier\\AppData\\Local\\Temp\\ipykernel_35868\\3273525698.py:40: FutureWarning: Series.ravel is deprecated. The underlying array is already 1D, so ravel is not necessary.  Use `to_numpy()` for conversion to a numpy array instead.\n",
      "  model.fit(X1_train, y_train.ravel())\n",
      "C:\\Users\\mmier\\AppData\\Local\\Temp\\ipykernel_35868\\3273525698.py:40: FutureWarning: Series.ravel is deprecated. The underlying array is already 1D, so ravel is not necessary.  Use `to_numpy()` for conversion to a numpy array instead.\n",
      "  model.fit(X1_train, y_train.ravel())\n",
      "C:\\Users\\mmier\\AppData\\Local\\Temp\\ipykernel_35868\\3273525698.py:40: FutureWarning: Series.ravel is deprecated. The underlying array is already 1D, so ravel is not necessary.  Use `to_numpy()` for conversion to a numpy array instead.\n",
      "  model.fit(X1_train, y_train.ravel())\n",
      "C:\\Users\\mmier\\AppData\\Local\\Temp\\ipykernel_35868\\3273525698.py:40: FutureWarning: Series.ravel is deprecated. The underlying array is already 1D, so ravel is not necessary.  Use `to_numpy()` for conversion to a numpy array instead.\n",
      "  model.fit(X1_train, y_train.ravel())\n",
      "C:\\Users\\mmier\\AppData\\Local\\Temp\\ipykernel_35868\\3273525698.py:40: FutureWarning: Series.ravel is deprecated. The underlying array is already 1D, so ravel is not necessary.  Use `to_numpy()` for conversion to a numpy array instead.\n",
      "  model.fit(X1_train, y_train.ravel())\n",
      "C:\\Users\\mmier\\AppData\\Local\\Temp\\ipykernel_35868\\3273525698.py:40: FutureWarning: Series.ravel is deprecated. The underlying array is already 1D, so ravel is not necessary.  Use `to_numpy()` for conversion to a numpy array instead.\n",
      "  model.fit(X1_train, y_train.ravel())\n",
      "C:\\Users\\mmier\\AppData\\Local\\Temp\\ipykernel_35868\\3273525698.py:40: FutureWarning: Series.ravel is deprecated. The underlying array is already 1D, so ravel is not necessary.  Use `to_numpy()` for conversion to a numpy array instead.\n",
      "  model.fit(X1_train, y_train.ravel())\n",
      "C:\\Users\\mmier\\AppData\\Local\\Temp\\ipykernel_35868\\3273525698.py:40: FutureWarning: Series.ravel is deprecated. The underlying array is already 1D, so ravel is not necessary.  Use `to_numpy()` for conversion to a numpy array instead.\n",
      "  model.fit(X1_train, y_train.ravel())\n"
     ]
    },
    {
     "name": "stdout",
     "output_type": "stream",
     "text": [
      "🌲 Optimal Random Forest Parameters: n_estimators=300, max_depth=None\n",
      "📊 Best MSE: 1502003.1753\n",
      "📊 Best RMSE: 1225.5624\n",
      "📊 Best MAE: 224.8098\n",
      "📊 R² (Train): 0.8820, Adjusted R² (Train): 0.8819\n",
      "📊 R² (Test): 0.0421, Adjusted R² (Test): 0.0381\n"
     ]
    }
   ],
   "source": [
    "### Set seed for reproducibility\n",
    "seed_value = 17\n",
    "np.random.seed(seed_value)\n",
    "\n",
    "### Define Time-Series Cross-Validation (5 splits)\n",
    "tscv = TimeSeriesSplit(n_splits=5)\n",
    "\n",
    "### Hyperparameters for Random Forest\n",
    "n_estimators_values = [50, 100, 200, 300]  # Number of trees to test\n",
    "max_depth_values = [5, 10, 20, None]  # Depth of trees\n",
    "\n",
    "### Function to compute Adjusted R²\n",
    "def adjusted_r2(r2, n, k):\n",
    "    return 1 - (1 - r2) * ((n - 1) / (n - k - 1))\n",
    "\n",
    "### Dictionary to store results\n",
    "results = {}\n",
    "\n",
    "\n",
    "\n",
    "### Perform Time-Series Cross-Validation (iterate over each split)\n",
    "for train_idx, test_idx in tscv.split(X1):\n",
    "\n",
    "    ## Split dataset into train & test per fold\n",
    "    X1_train, X1_test = X1.iloc[train_idx], X1.iloc[test_idx]\n",
    "    y_train, y_test = y.iloc[train_idx], y.iloc[test_idx]\n",
    "\n",
    "    ## Train and evaluate for each combination of hyperparameters\n",
    "    for n_estimators in n_estimators_values:\n",
    "        for max_depth in max_depth_values:\n",
    "            \n",
    "            # Define the Random Forest model\n",
    "            model = RandomForestRegressor(\n",
    "                n_estimators=n_estimators,\n",
    "                max_depth=max_depth,\n",
    "                random_state=seed_value,\n",
    "                n_jobs=-1  # Use all available processors\n",
    "            )\n",
    "            # Train the model\n",
    "            model.fit(X1_train, y_train.ravel())\n",
    "\n",
    "            # Predictions\n",
    "            y_train_pred = model.predict(X1_train)\n",
    "            y_test_pred = model.predict(X1_test)\n",
    "\n",
    "            # Compute performance metrics\n",
    "            mse = mean_squared_error(y_test, y_test_pred)\n",
    "            rmse = np.sqrt(mse)\n",
    "            mae = mean_absolute_error(y_test, y_test_pred)\n",
    "            r2_test = r2_score(y_test, y_test_pred)\n",
    "            r2_train = r2_score(y_train, y_train_pred)\n",
    "\n",
    "            # Compute Adjusted R²\n",
    "            n_train, k = X1_train.shape\n",
    "            n_test = X1_test.shape[0]\n",
    "            adj_r2_train = adjusted_r2(r2_train, n_train, k)\n",
    "            adj_r2_test = adjusted_r2(r2_test, n_test, k)\n",
    "\n",
    "            # Store results for this combination\n",
    "            results[(n_estimators, max_depth)] = {\n",
    "                \"MSE\": mse, \"RMSE\": rmse, \"MAE\": mae, \"R2_test\": r2_test, \"R2_train\": r2_train,\n",
    "                \"Adj_R2_test\": adj_r2_test, \"Adj_R2_train\": adj_r2_train\n",
    "            }\n",
    "            \n",
    "### Find the best hyperparameter combination (minimize MSE, maximize R²)\n",
    "best_params = min(results, key=lambda x: (results[x][\"MSE\"], -results[x][\"R2_test\"]))\n",
    "best_metrics = results[best_params]\n",
    "\n",
    "### Print optimal hyperparameters and their performance\n",
    "print(f\"🌲 Optimal Random Forest Parameters: n_estimators={best_params[0]}, max_depth={best_params[1]}\")\n",
    "print(f\"📊 Best MSE: {best_metrics['MSE']:.4f}\")\n",
    "print(f\"📊 Best RMSE: {best_metrics['RMSE']:.4f}\")\n",
    "print(f\"📊 Best MAE: {best_metrics['MAE']:.4f}\")\n",
    "print(f\"📊 R² (Train): {best_metrics['R2_train']:.4f}, Adjusted R² (Train): {best_metrics['Adj_R2_train']:.4f}\")\n",
    "print(f\"📊 R² (Test): {best_metrics['R2_test']:.4f}, Adjusted R² (Test): {best_metrics['Adj_R2_test']:.4f}\")\n",
    "\n"
   ]
  }
 ],
 "metadata": {
  "kaggle": {
   "accelerator": "none",
   "dataSources": [
    {
     "datasetId": 6837566,
     "sourceId": 10985952,
     "sourceType": "datasetVersion"
    }
   ],
   "dockerImageVersionId": 30919,
   "isGpuEnabled": false,
   "isInternetEnabled": true,
   "language": "python",
   "sourceType": "notebook"
  },
  "kernelspec": {
   "display_name": "MDS_thesis",
   "language": "python",
   "name": "python3"
  },
  "language_info": {
   "codemirror_mode": {
    "name": "ipython",
    "version": 3
   },
   "file_extension": ".py",
   "mimetype": "text/x-python",
   "name": "python",
   "nbconvert_exporter": "python",
   "pygments_lexer": "ipython3",
   "version": "3.13.2"
  }
 },
 "nbformat": 4,
 "nbformat_minor": 4
}
